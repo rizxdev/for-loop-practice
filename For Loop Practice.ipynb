{
 "cells": [
  {
   "cell_type": "markdown",
   "id": "d7076454-69d6-4df5-a82b-0fc4208e1f37",
   "metadata": {},
   "source": [
    "\n",
    "# \"Practice for 'for Loop'"
   ]
  },
  {
   "cell_type": "code",
   "execution_count": 1,
   "id": "ceee62fb-597e-401e-b488-cb2355aea98a",
   "metadata": {},
   "outputs": [
    {
     "name": "stdout",
     "output_type": "stream",
     "text": [
      "1\n",
      "3\n",
      "5\n",
      "7\n",
      "9\n",
      "11\n",
      "13\n",
      "15\n",
      "17\n",
      "19\n"
     ]
    }
   ],
   "source": [
    "#  \"Create a for loop to print all even numbers between 1 and 20.\"\n",
    "\n",
    "for even_num in range(1,20,2): #range(stop) #range(start,stop) #range(start,stop,step)\n",
    "  print(even_num)"
   ]
  },
  {
   "cell_type": "code",
   "execution_count": 2,
   "id": "0911a451-ce9d-4901-b028-b7f36b742e4f",
   "metadata": {},
   "outputs": [
    {
     "name": "stdout",
     "output_type": "stream",
     "text": [
      "Square of 1 is: 1\n",
      "Square of 2 is: 4\n",
      "Square of 3 is: 9\n",
      "Square of 4 is: 16\n",
      "Square of 5 is: 25\n",
      "Square of 6 is: 36\n",
      "Square of 7 is: 49\n",
      "Square of 8 is: 64\n",
      "Square of 9 is: 81\n",
      "Square of 10 is: 100\n"
     ]
    }
   ],
   "source": [
    "#Print the square of numbers from 1 to 10.\n",
    "\n",
    "for num in range(1, 11):\n",
    " square = num ** 2            \n",
    " print(\"Square of\", num, \"is:\", square)"
   ]
  },
  {
   "cell_type": "code",
   "execution_count": 3,
   "id": "69eecfc5-56f3-4585-bc39-1ea5f766891c",
   "metadata": {},
   "outputs": [
    {
     "name": "stdout",
     "output_type": "stream",
     "text": [
      " the factorial of 1 is 1\n",
      " the factorial of 2 is 2\n",
      " the factorial of 3 is 6\n",
      " the factorial of 4 is 24\n",
      " the factorial of 5 is 120\n"
     ]
    }
   ],
   "source": [
    "#\"Print the factorial of numbers from 1 to 5.\"\n",
    "\n",
    "#factorial n!=n×(n−1)×(n−2)×…×2×1\n",
    "\n",
    "for num in range(1,6):\n",
    "    factorial = 1\n",
    "    for i in range(1,num+1):\n",
    "        factorial *= i\n",
    "        # use f-string in ptrint statement \n",
    "    print(f\" the factorial of {num} is {factorial}\")"
   ]
  },
  {
   "cell_type": "code",
   "execution_count": 15,
   "id": "7e536a79-b67e-484d-a618-43966ea9c13f",
   "metadata": {},
   "outputs": [
    {
     "name": "stdout",
     "output_type": "stream",
     "text": [
      " the factorial of 4 is 24\n"
     ]
    }
   ],
   "source": [
    "#print the factorial of number 4\n",
    "\n",
    "factorial = 1\n",
    "for i in range(1,5):\n",
    "    factorial *= i\n",
    "        # use f-string in ptrint statement \n",
    "print(f\" the factorial of {num} is {factorial}\")"
   ]
  },
  {
   "cell_type": "code",
   "execution_count": 28,
   "id": "5e9fb9ed-95df-41ba-8719-fe3bcaad39c8",
   "metadata": {},
   "outputs": [
    {
     "name": "stdout",
     "output_type": "stream",
     "text": [
      "10\n",
      "9\n",
      "8\n",
      "7\n",
      "6\n",
      "5\n",
      "4\n",
      "3\n",
      "2\n"
     ]
    }
   ],
   "source": [
    "#Print all the numbers between 1 and 10 in reverse order\n",
    "\n",
    "for num in range(10,1,-1):\n",
    "  print(num)"
   ]
  },
  {
   "cell_type": "code",
   "execution_count": 70,
   "id": "a0e27d54-ce4d-4d62-ab19-43c565609f8f",
   "metadata": {},
   "outputs": [
    {
     "name": "stdout",
     "output_type": "stream",
     "text": [
      "1\n",
      "3\n",
      "5\n",
      "7\n",
      "9\n",
      "11\n",
      "13\n",
      "15\n",
      "17\n",
      "19\n"
     ]
    }
   ],
   "source": [
    "#Find the sum of all odd numbers between 1 and 20.\n",
    "\n",
    "#step 1\n",
    "\n",
    "for num in range(1,21):\n",
    "    if num % 2 !=0:\n",
    "        print(num)\n"
   ]
  },
  {
   "cell_type": "code",
   "execution_count": 78,
   "id": "13444a60-a451-4c14-b1a5-f43ff341f770",
   "metadata": {},
   "outputs": [
    {
     "name": "stdout",
     "output_type": "stream",
     "text": [
      "sum of the odd number between 1 to 20 is :100\n"
     ]
    }
   ],
   "source": [
    "# step 2\n",
    "\n",
    "sum_odd = 0\n",
    "\n",
    "for num in range(1,21):\n",
    "    if num % 2 !=0:\n",
    "        sum_odd += num\n",
    "\n",
    "print(f\"sum of the all odd number between 1 to 20 is :{sum_odd}\")\n",
    " "
   ]
  },
  {
   "cell_type": "code",
   "execution_count": 87,
   "id": "ab35692e-35a7-4164-a733-6955477253bc",
   "metadata": {},
   "outputs": [
    {
     "name": "stdout",
     "output_type": "stream",
     "text": [
      "5 X 1  = 5\n",
      "5 X 2  = 10\n",
      "5 X 3  = 15\n",
      "5 X 4  = 20\n",
      "5 X 5  = 25\n",
      "5 X 6  = 30\n",
      "5 X 7  = 35\n",
      "5 X 8  = 40\n",
      "5 X 9  = 45\n",
      "5 X 10  = 50\n"
     ]
    }
   ],
   "source": [
    "# Print the multiplication table of a number(5)\n",
    "\n",
    "num =5\n",
    "\n",
    "for i in range(1,11):\n",
    "    print(f\"{num } X {i}  = {num*i}\")\n",
    "\n"
   ]
  },
  {
   "cell_type": "code",
   "execution_count": 97,
   "id": "3e18d26a-1d90-465a-8767-0f6dae761356",
   "metadata": {},
   "outputs": [
    {
     "name": "stdout",
     "output_type": "stream",
     "text": [
      "Sum all number from 1 to 100 is 4950\n"
     ]
    }
   ],
   "source": [
    "# \"Write a Python program to calculate the sum of all numbers from 1 to 100.\"\n",
    "\n",
    "sum_all = 0\n",
    "\n",
    "for i in range(1,100):\n",
    " sum_all += i\n",
    "\n",
    "print(f\"Sum all number from 1 to 100 is {sum_all}\")\n",
    "\n"
   ]
  },
  {
   "cell_type": "code",
   "execution_count": 69,
   "id": "6e8cdfe6-b01c-448a-99dd-ae1b98dbea81",
   "metadata": {},
   "outputs": [
    {
     "name": "stdout",
     "output_type": "stream",
     "text": [
      "12\n"
     ]
    }
   ],
   "source": [
    "numbers = [1, -2, 3, -4, 5, 6, -7, -8, 9, 10, 12]\n",
    "\n",
    "x = 1\n",
    "\n",
    "for number in numbers:\n",
    "    if number > 0:\n",
    "        x \n",
    "print(number)\n",
    "        \n"
   ]
  },
  {
   "cell_type": "code",
   "execution_count": 83,
   "id": "bc6315c3-fb39-43d7-8738-44aa9bbe52f2",
   "metadata": {},
   "outputs": [
    {
     "name": "stdout",
     "output_type": "stream",
     "text": [
      "5\n"
     ]
    }
   ],
   "source": [
    "numbers = [1, 1, 1, 1, 1]\n",
    "\n",
    "x = 0\n",
    "\n",
    "for number in numbers:\n",
    "    if number > 0:\n",
    "        x += number\n",
    "print(x)  # Yeh loop ke har iteration ka `x` ka naya value print karega\n"
   ]
  },
  {
   "cell_type": "code",
   "execution_count": 84,
   "id": "43b04451-5214-47d9-a693-bab901feafa3",
   "metadata": {},
   "outputs": [
    {
     "name": "stdout",
     "output_type": "stream",
     "text": [
      "202\n"
     ]
    }
   ],
   "source": [
    "numbers = [121, 131, 202, 345, 454, 567, 676, 789, 898]\n",
    "\n",
    "for number in numbers:\n",
    "    if 201 < number < 203:\n",
    "        print(number)"
   ]
  },
  {
   "cell_type": "markdown",
   "id": "7b43d4e1-bf17-4786-98d7-120b651cef80",
   "metadata": {},
   "source": [
    "# Reverse & Reversed Lopp"
   ]
  },
  {
   "cell_type": "code",
   "execution_count": 90,
   "id": "1fdb99f1-c071-4bef-ae45-643d7879249c",
   "metadata": {},
   "outputs": [
    {
     "name": "stdout",
     "output_type": "stream",
     "text": [
      "[4, 3, 2, 1]\n"
     ]
    }
   ],
   "source": [
    "name = [1, 2, 3, 4]\n",
    "\n",
    "reversed_name = name[::-1]\n",
    "\n",
    "print(reversed_name)"
   ]
  },
  {
   "cell_type": "code",
   "execution_count": 100,
   "id": "80ed14e8-56ec-4a62-8b94-1ccedcb1e7ef",
   "metadata": {},
   "outputs": [
    {
     "name": "stdout",
     "output_type": "stream",
     "text": [
      "121\n",
      "131\n",
      "202\n",
      "454\n",
      "676\n",
      "898\n"
     ]
    }
   ],
   "source": [
    "numbers = [121, 131, 202, 345, 454, 567, 676, 789, 898]\n",
    "\n",
    "for number in numbers:\n",
    "    if str(number) == str(number)[::-1]:\n",
    "     print(number)"
   ]
  },
  {
   "cell_type": "markdown",
   "id": "f0a0c81a-440f-490f-9aa1-6f33559edd81",
   "metadata": {},
   "source": [
    "# Run for loop on list"
   ]
  },
  {
   "cell_type": "code",
   "execution_count": 102,
   "id": "f67b7cfa-696e-4ab7-9de8-ba7851bc9221",
   "metadata": {},
   "outputs": [
    {
     "name": "stdout",
     "output_type": "stream",
     "text": [
      "10\n",
      "20\n",
      "4\n",
      "45\n",
      "99\n",
      "50\n",
      "67\n",
      "99\n"
     ]
    }
   ],
   "source": [
    "numbers = [10, 20, 4, 45, 99, 50, 67, 99]\n",
    "\n",
    "for number in numbers:\n",
    "   print(number)"
   ]
  },
  {
   "cell_type": "code",
   "execution_count": 112,
   "id": "15adcfcd-ec13-43f6-89cc-fbe98cbc1fae",
   "metadata": {},
   "outputs": [
    {
     "name": "stdout",
     "output_type": "stream",
     "text": [
      "[99, 67, 50, 99, 45, 4, 20, 10]\n"
     ]
    }
   ],
   "source": [
    "numbers = [10, 20, 4, 45, 99, 50, 67, 99]\n",
    "\n",
    "reverse_number = numbers[::-1]\n",
    "print(reverse_number)"
   ]
  },
  {
   "cell_type": "markdown",
   "id": "740a8309-75ee-482d-ac1a-1ccf78d0e127",
   "metadata": {},
   "source": [
    "# Max number in list"
   ]
  },
  {
   "cell_type": "code",
   "execution_count": 117,
   "id": "e5692e74-a061-4273-aa8a-f9c852109c7c",
   "metadata": {},
   "outputs": [
    {
     "name": "stdout",
     "output_type": "stream",
     "text": [
      "99\n"
     ]
    }
   ],
   "source": [
    "numbers = [10, 20, 4, 45, 99, 50, 67, 99]\n",
    "\n",
    "max_number = float('-inf')\n",
    "for number in numbers:\n",
    "    if number > max_number:\n",
    "        max_number = number\n",
    "print(max_number)"
   ]
  },
  {
   "cell_type": "markdown",
   "id": "3028a4fc-fe62-4269-8053-bfe09006dd1f",
   "metadata": {},
   "source": [
    "# Sum of number in list"
   ]
  },
  {
   "cell_type": "code",
   "execution_count": 119,
   "id": "2852e922-1c8d-4414-aebe-35451d9831c9",
   "metadata": {},
   "outputs": [
    {
     "name": "stdout",
     "output_type": "stream",
     "text": [
      "394\n"
     ]
    }
   ],
   "source": [
    "numbers = [10, 20, 4, 45, 99, 50, 67, 99]\n",
    "\n",
    "sumofall = 0\n",
    "for number in numbers:\n",
    "    sumofall += number\n",
    "print(sumofall)"
   ]
  },
  {
   "cell_type": "markdown",
   "id": "e618a801-fa56-48b6-9000-3cfb11624fbd",
   "metadata": {},
   "source": [
    "# Min number in list"
   ]
  },
  {
   "cell_type": "code",
   "execution_count": 125,
   "id": "13a9ff91-8518-4b85-8951-cd55c1556a85",
   "metadata": {},
   "outputs": [
    {
     "name": "stdout",
     "output_type": "stream",
     "text": [
      "4\n"
     ]
    }
   ],
   "source": [
    "numbers = [10, 20, 4, 45, 99, 50, 67, 99]\n",
    "\n",
    "min_number = float('inf')\n",
    "for number in numbers:\n",
    "    if number < min_number:\n",
    "        min_number = number\n",
    "print(min_number)\n",
    "    "
   ]
  },
  {
   "cell_type": "markdown",
   "id": "82f389c1-de99-4ba8-87c9-09690c65fef1",
   "metadata": {},
   "source": [
    "# second largest number"
   ]
  },
  {
   "cell_type": "code",
   "execution_count": 142,
   "id": "e28c010c-8e05-4933-9ccc-3564326fba31",
   "metadata": {},
   "outputs": [
    {
     "name": "stdout",
     "output_type": "stream",
     "text": [
      "99\n",
      "89\n"
     ]
    }
   ],
   "source": [
    "numbers = [10, 20, 4, 45, 99, 50, 67,88, 88, 45,89, 99]\n",
    "\n",
    "largest_num = float('-inf')\n",
    "second_largest = float('-inf')\n",
    "for number in numbers:\n",
    "    if number > largest_num:\n",
    "        second_largest = largest_num\n",
    "        largest_num = number\n",
    "    elif number > second_largest and number != largest_num:\n",
    "        second_largest = number\n",
    "\n",
    "print(largest_num)\n",
    "print(second_largest)"
   ]
  },
  {
   "cell_type": "code",
   "execution_count": null,
   "id": "f7c050aa-3c0f-4e70-a161-2a89629137b5",
   "metadata": {},
   "outputs": [],
   "source": [
    "\n"
   ]
  },
  {
   "cell_type": "code",
   "execution_count": null,
   "id": "e988a810-5ed8-414f-8155-60dc991f9cf0",
   "metadata": {},
   "outputs": [],
   "source": []
  }
 ],
 "metadata": {
  "kernelspec": {
   "display_name": "Python 3 (ipykernel)",
   "language": "python",
   "name": "python3"
  },
  "language_info": {
   "codemirror_mode": {
    "name": "ipython",
    "version": 3
   },
   "file_extension": ".py",
   "mimetype": "text/x-python",
   "name": "python",
   "nbconvert_exporter": "python",
   "pygments_lexer": "ipython3",
   "version": "3.12.1"
  }
 },
 "nbformat": 4,
 "nbformat_minor": 5
}
